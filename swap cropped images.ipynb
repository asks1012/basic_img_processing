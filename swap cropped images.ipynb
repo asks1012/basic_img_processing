{
 "cells": [
  {
   "cell_type": "code",
   "execution_count": 18,
   "id": "1b628372",
   "metadata": {},
   "outputs": [],
   "source": [
    "import cv2"
   ]
  },
  {
   "cell_type": "code",
   "execution_count": 19,
   "id": "a0e63673",
   "metadata": {},
   "outputs": [],
   "source": [
    "photo1 = cv2.imread('photo1.png')\n",
    "photo2 = cv2.imread('photo2.png')"
   ]
  },
  {
   "cell_type": "code",
   "execution_count": 20,
   "id": "e7764c1c",
   "metadata": {},
   "outputs": [
    {
     "data": {
      "text/plain": [
       "(512, 512, 3)"
      ]
     },
     "execution_count": 20,
     "metadata": {},
     "output_type": "execute_result"
    }
   ],
   "source": [
    "photo1.shape"
   ]
  },
  {
   "cell_type": "code",
   "execution_count": 21,
   "id": "f0a052a2",
   "metadata": {},
   "outputs": [
    {
     "data": {
      "text/plain": [
       "(512, 512, 3)"
      ]
     },
     "execution_count": 21,
     "metadata": {},
     "output_type": "execute_result"
    }
   ],
   "source": [
    "photo2.shape"
   ]
  },
  {
   "cell_type": "code",
   "execution_count": 22,
   "id": "bd99bd91",
   "metadata": {},
   "outputs": [],
   "source": [
    "photo2_crop = photo2[:, 256: ]\n",
    "photo1[:, 256: ] = photo2_crop"
   ]
  },
  {
   "cell_type": "code",
   "execution_count": 23,
   "id": "1a3d9a97",
   "metadata": {},
   "outputs": [],
   "source": [
    "cv2.imshow('photo1',photo1)\n",
    "cv2.waitKey()\n",
    "cv2.destroyAllWindows()"
   ]
  },
  {
   "cell_type": "code",
   "execution_count": 16,
   "id": "6b25e7f3",
   "metadata": {},
   "outputs": [],
   "source": [
    "photo1 = cv2.imread('photo1.png')\n",
    "photo1_crop = photo1[:, 256: ]\n",
    "photo2[:, 256: ] = photo1_crop"
   ]
  },
  {
   "cell_type": "code",
   "execution_count": 17,
   "id": "1d4f15af",
   "metadata": {},
   "outputs": [],
   "source": [
    "cv2.imshow('photo2',photo2)\n",
    "cv2.waitKey()\n",
    "cv2.destroyAllWindows()"
   ]
  },
  {
   "cell_type": "code",
   "execution_count": 24,
   "id": "25af7157",
   "metadata": {},
   "outputs": [
    {
     "data": {
      "text/plain": [
       "True"
      ]
     },
     "execution_count": 24,
     "metadata": {},
     "output_type": "execute_result"
    }
   ],
   "source": [
    "cv2.imwrite('photo1_final.jpg',photo1)"
   ]
  },
  {
   "cell_type": "code",
   "execution_count": null,
   "id": "b7152cf4",
   "metadata": {},
   "outputs": [],
   "source": []
  }
 ],
 "metadata": {
  "kernelspec": {
   "display_name": "Python 3",
   "language": "python",
   "name": "python3"
  },
  "language_info": {
   "codemirror_mode": {
    "name": "ipython",
    "version": 3
   },
   "file_extension": ".py",
   "mimetype": "text/x-python",
   "name": "python",
   "nbconvert_exporter": "python",
   "pygments_lexer": "ipython3",
   "version": "3.8.8"
  }
 },
 "nbformat": 4,
 "nbformat_minor": 5
}
