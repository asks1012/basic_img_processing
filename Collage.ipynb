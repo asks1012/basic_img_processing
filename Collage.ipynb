{
 "cells": [
  {
   "cell_type": "code",
   "execution_count": 24,
   "id": "1db12a4a",
   "metadata": {},
   "outputs": [],
   "source": [
    "import cv2\n",
    "import numpy"
   ]
  },
  {
   "cell_type": "code",
   "execution_count": 25,
   "id": "7c601ec8",
   "metadata": {},
   "outputs": [],
   "source": [
    "photo1 = cv2.imread('1.png')\n",
    "photo2 = cv2.imread('2.png')"
   ]
  },
  {
   "cell_type": "code",
   "execution_count": 26,
   "id": "c55aea02",
   "metadata": {},
   "outputs": [
    {
     "data": {
      "text/plain": [
       "(214, 300, 3)"
      ]
     },
     "execution_count": 26,
     "metadata": {},
     "output_type": "execute_result"
    }
   ],
   "source": [
    "photo1.shape"
   ]
  },
  {
   "cell_type": "code",
   "execution_count": 27,
   "id": "f9629855",
   "metadata": {},
   "outputs": [
    {
     "data": {
      "text/plain": [
       "(214, 300, 3)"
      ]
     },
     "execution_count": 27,
     "metadata": {},
     "output_type": "execute_result"
    }
   ],
   "source": [
    "photo2.shape"
   ]
  },
  {
   "cell_type": "code",
   "execution_count": 28,
   "id": "4cdb52c8",
   "metadata": {},
   "outputs": [],
   "source": [
    "Collage = numpy.hstack((photo1 , photo2))"
   ]
  },
  {
   "cell_type": "code",
   "execution_count": 29,
   "id": "a86485a4",
   "metadata": {},
   "outputs": [],
   "source": [
    "cv2.imshow('Collage', Collage)\n",
    "cv2.waitKey()\n",
    "cv2.destroyAllWindows()"
   ]
  },
  {
   "cell_type": "code",
   "execution_count": null,
   "id": "eb24688b",
   "metadata": {},
   "outputs": [],
   "source": []
  }
 ],
 "metadata": {
  "kernelspec": {
   "display_name": "Python 3",
   "language": "python",
   "name": "python3"
  },
  "language_info": {
   "codemirror_mode": {
    "name": "ipython",
    "version": 3
   },
   "file_extension": ".py",
   "mimetype": "text/x-python",
   "name": "python",
   "nbconvert_exporter": "python",
   "pygments_lexer": "ipython3",
   "version": "3.8.8"
  }
 },
 "nbformat": 4,
 "nbformat_minor": 5
}
