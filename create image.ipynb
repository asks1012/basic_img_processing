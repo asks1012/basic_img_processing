{
 "cells": [
  {
   "cell_type": "code",
   "execution_count": 6,
   "id": "ea9ca35c",
   "metadata": {},
   "outputs": [],
   "source": [
    "import cv2\n",
    "import numpy"
   ]
  },
  {
   "cell_type": "code",
   "execution_count": 7,
   "id": "0b70348d",
   "metadata": {},
   "outputs": [],
   "source": [
    "arr = numpy.zeros((400,600,3))"
   ]
  },
  {
   "cell_type": "code",
   "execution_count": 8,
   "id": "18b88b67",
   "metadata": {},
   "outputs": [],
   "source": [
    "arr[130:270 , 170:200] = [255,255,255]\n",
    "arr[190:210 , 200:250] = [255,255,255]\n",
    "arr[130:270 , 250:280] = [255,255,255]\n",
    "arr[130:270 , 310:340] = [255,255,255]\n",
    "arr[130:140 , 300:350] = [255,255,255]\n",
    "arr[260:270 , 300:350] = [255,255,255]\n",
    "arr[130:230 , 400:420] = [0,255,255]\n",
    "arr[250:270 , 400:420] = [255,255,0]"
   ]
  },
  {
   "cell_type": "code",
   "execution_count": 9,
   "id": "f1045d85",
   "metadata": {},
   "outputs": [],
   "source": [
    "cv2.imshow('hi',arr)\n",
    "cv2.waitKey()\n",
    "cv2.destroyAllWindows()"
   ]
  },
  {
   "cell_type": "code",
   "execution_count": 5,
   "id": "19415b9e",
   "metadata": {},
   "outputs": [
    {
     "data": {
      "text/plain": [
       "True"
      ]
     },
     "execution_count": 5,
     "metadata": {},
     "output_type": "execute_result"
    }
   ],
   "source": [
    "cv2.imwrite('hi.jpg',arr)"
   ]
  },
  {
   "cell_type": "code",
   "execution_count": null,
   "id": "45a10440",
   "metadata": {},
   "outputs": [],
   "source": []
  }
 ],
 "metadata": {
  "kernelspec": {
   "display_name": "Python 3",
   "language": "python",
   "name": "python3"
  },
  "language_info": {
   "codemirror_mode": {
    "name": "ipython",
    "version": 3
   },
   "file_extension": ".py",
   "mimetype": "text/x-python",
   "name": "python",
   "nbconvert_exporter": "python",
   "pygments_lexer": "ipython3",
   "version": "3.8.8"
  }
 },
 "nbformat": 4,
 "nbformat_minor": 5
}
